{
 "cells": [
  {
   "cell_type": "code",
   "execution_count": 13,
   "metadata": {},
   "outputs": [
    {
     "name": "stdout",
     "output_type": "stream",
     "text": [
      "random library imported\n"
     ]
    }
   ],
   "source": [
    "import random as rn\n",
    "from os import system\n",
    "print('random library imported')"
   ]
  },
  {
   "cell_type": "markdown",
   "metadata": {},
   "source": [
    "<b>Objective Function</b> : to calculate objective value"
   ]
  },
  {
   "cell_type": "code",
   "execution_count": 14,
   "metadata": {},
   "outputs": [
    {
     "name": "stdout",
     "output_type": "stream",
     "text": [
      "Objectibe Function Defined\n"
     ]
    }
   ],
   "source": [
    "def obj(chromosome) :\n",
    "    val = 0\n",
    "    for i in range(1,len(chromosome)+1) : \n",
    "        val = val + i*chromosome[i-1]\n",
    "        \n",
    "    return abs(val-30)\n",
    "\n",
    "print('Objectibe Function Defined')"
   ]
  },
  {
   "cell_type": "markdown",
   "metadata": {},
   "source": [
    "<b>Array Printer</b>"
   ]
  },
  {
   "cell_type": "code",
   "execution_count": 15,
   "metadata": {},
   "outputs": [
    {
     "name": "stdout",
     "output_type": "stream",
     "text": [
      "Array Printer Defined\n"
     ]
    }
   ],
   "source": [
    "def printArray(array,string) : \n",
    "    for i in range(len(array)) : \n",
    "        print(string+'[',i,']'+' = ',array[i])\n",
    "\n",
    "print('Array Printer Defined')    "
   ]
  },
  {
   "cell_type": "markdown",
   "metadata": {},
   "source": [
    "<b>Matrix Printer <b>"
   ]
  },
  {
   "cell_type": "code",
   "execution_count": 16,
   "metadata": {},
   "outputs": [
    {
     "name": "stdout",
     "output_type": "stream",
     "text": [
      "Chromosome Printer Defined\n"
     ]
    }
   ],
   "source": [
    "def printMatrix(matrix) : \n",
    "    for i in range(len(matrix)) :\n",
    "        print('Chromosome'+'[',i,']'+' = ',end = '')\n",
    "        for j in matrix[i] :\n",
    "            j = str(j)\n",
    "            if len(j) < 2 : \n",
    "                j = '0'+j\n",
    "            print(j,end = ' ')\n",
    "        print()\n",
    "        \n",
    "print('Chromosome Printer Defined')"
   ]
  },
  {
   "cell_type": "markdown",
   "metadata": {},
   "source": [
    "<b>Initialize Chromosome Population</b> : Assigns values(0-30) to chomosome population (matrix)"
   ]
  },
  {
   "cell_type": "code",
   "execution_count": 17,
   "metadata": {},
   "outputs": [
    {
     "name": "stdout",
     "output_type": "stream",
     "text": [
      "Initialisation Function Defined\n"
     ]
    }
   ],
   "source": [
    "def initialize(size,gene) :\n",
    "    chromosomeMatrix = []\n",
    "    for i in range(size) :\n",
    "        chromosome = []\n",
    "        for j in range(gene) : \n",
    "            chromosome.append(rn.randrange(0,31,1))\n",
    "            \n",
    "        chromosomeMatrix.append(chromosome)\n",
    "    \n",
    "    return chromosomeMatrix\n",
    "\n",
    "print('Initialisation Function Defined')"
   ]
  },
  {
   "cell_type": "markdown",
   "metadata": {},
   "source": [
    "<b>Selection Process</b> :\n",
    "<ul>\n",
    "    <li>Generates Next Generation Chromosome</li>\n",
    "    <li>Performs Crossover</li>\n",
    "    <li>Performs Mutation</li>\n",
    "</ul>"
   ]
  },
  {
   "cell_type": "code",
   "execution_count": 32,
   "metadata": {},
   "outputs": [
    {
     "name": "stdout",
     "output_type": "stream",
     "text": [
      "Selection Function Defined\n"
     ]
    }
   ],
   "source": [
    "def selection(chromosomeMatrix) : \n",
    "    \n",
    "    size = len(chromosomeMatrix)\n",
    "    gene = len(chromosomeMatrix[0])\n",
    "    \n",
    "    # Compute Fitness Probability - Fitness[i]\n",
    "    fitness = []\n",
    "    for i in range(size) : \n",
    "        fitness.append(1/(1+obj(chromosomeMatrix[i])))\n",
    "        \n",
    "    print('Fitness')\n",
    "    for fit in fitness : \n",
    "        print(round(fit,4),end = ' ')\n",
    "    print('\\n')\n",
    "    \n",
    "    # Compute Probability of Selection - P[i]\n",
    "    total_fitness = sum(fitness)\n",
    "    probability = []\n",
    "    for i in range(size) : \n",
    "        probability.append(fitness[i]/total_fitness)\n",
    "        \n",
    "    print('Probability')\n",
    "    for prob in probability : \n",
    "        print(round(prob,4),end = ' ')\n",
    "    print('\\n')\n",
    "\n",
    "    # Calculate Cumulative Probability - C[i] \n",
    "    cum = 0\n",
    "    cum_probability = [] \n",
    "    for i in range(size) : \n",
    "        cum = cum+probability[i]\n",
    "        cum_probability.append(cum)\n",
    "        \n",
    "    print('Cumulative Probability')\n",
    "    for prob in cum_probability : \n",
    "        print(round(prob,4),end = ' ')\n",
    "    print('\\n')\n",
    "    \n",
    "    # probability of selection process using roulette-wheel - R[i] \n",
    "    # In example given, R[i] generated is uniformily distributed\n",
    "    # This may not happen in practical case as numbers(0-1) are generated purely using random function\n",
    "    \n",
    "    rouletteWheel = [rn.random() for i in range(size)]\n",
    "    printArray(rouletteWheel,'R')\n",
    "    print('\\n')\n",
    "    \n",
    "    # Chromosome Population For next Generation\n",
    "    newChromosomeMatrix = []\n",
    "    for i in range(size) : \n",
    "        for j in range(size) : \n",
    "            if rouletteWheel[i] < cum_probability[j] : \n",
    "                newChromosomeMatrix.append(chromosomeMatrix[j].copy())\n",
    "                break\n",
    "    \n",
    "    print('New Chromosomes - Next Generation')\n",
    "    printMatrix(newChromosomeMatrix)\n",
    "    print('\\n')\n",
    "    \n",
    "    # selecting parent using random number and defining crossover rate\n",
    "    parent = set()\n",
    "    crossover_rate = 0.9\n",
    "    randNum = []\n",
    "    for i in range(size) : \n",
    "        randNum.append(rn.random())\n",
    "        if randNum[i] < crossover_rate : \n",
    "            parent.add(i)\n",
    "    \n",
    "    print('Random Number')\n",
    "    for r in randNum : \n",
    "        print(round(r,4),end = ' ')\n",
    "    print('\\n')\n",
    "    \n",
    "    parent = list(parent)\n",
    "    no_of_parents = len(parent)\n",
    "    \n",
    "    print('Parents')\n",
    "    for p in parent : \n",
    "        print(p,end = ' ')\n",
    "    print()\n",
    "    \n",
    "    # determining the position of the crossover point\n",
    "    crossOverPoint = [rn.randrange(1,size,1) for i in range(no_of_parents)]\n",
    "    # parents Chromosome cut at crossover point and its genes interchanged\n",
    "    for i in range(no_of_parents) : \n",
    "        newChromosomeMatrix[parent[i]] = (chromosomeMatrix[parent[i]][:crossOverPoint[i]+1] + \n",
    "                                          chromosomeMatrix[parent[(i+1)%no_of_parents]][crossOverPoint[i]+1 : ]).copy()\n",
    "    \n",
    "    print('Chromosome After Crossover')\n",
    "    printMatrix(newChromosomeMatrix)\n",
    "    print()\n",
    "    \n",
    "    # defining Mutation rate and generation of gene positions to perform mutation \n",
    "    mutation_rate = 0.9\n",
    "    number_of_mutations = int(gene*size*mutation_rate)\n",
    "    index = set()\n",
    "    while(len(index) < number_of_mutations) : \n",
    "        index.add(rn.randrange(1,gene*size+1,1))\n",
    "    \n",
    "    # Performing Mutations\n",
    "    index = list(index)\n",
    "    while len(index) > 0 :\n",
    "        count = index.pop()\n",
    "        # Assigning random mutated values at positions generated\n",
    "        newChromosomeMatrix[int((count-1)/gene)][(count-1)%gene] = rn.randrange(0,31,1)\n",
    "    \n",
    "    print('Chromosome Population after crossover and mutation')\n",
    "    printMatrix(chromosomeMatrix)\n",
    "    print()\n",
    "    \n",
    "    # Array to store objective function value to each chromosome of the population\n",
    "    objectiveFunctionArray = []\n",
    "    for i in range(size) : \n",
    "        objectiveFunctionArray.append(obj(newChromosomeMatrix[i]))\n",
    "    \n",
    "    print('Objective Function Value of each chromosome')\n",
    "    for chromosome in chromosomeMatrix : \n",
    "        print(obj(chromosome),end = ' ')\n",
    "    print('\\n')\n",
    "    \n",
    "    return newChromosomeMatrix\n",
    "\n",
    "print('Selection Function Defined')"
   ]
  },
  {
   "cell_type": "markdown",
   "metadata": {},
   "source": [
    "<b>FindMin : </b>Function to check if Chromosome Population has chromosome with minimised objective function value"
   ]
  },
  {
   "cell_type": "code",
   "execution_count": 29,
   "metadata": {},
   "outputs": [
    {
     "name": "stdout",
     "output_type": "stream",
     "text": [
      "Find Minimised Objective value - defined\n"
     ]
    }
   ],
   "source": [
    "def findMin(chromosomeMatrix) : \n",
    "    size = len(chromosomeMatrix)\n",
    "    gene = len(chromosomeMatrix[0])\n",
    "    found = False\n",
    "    for i in range(size) : \n",
    "        if obj(chromosomeMatrix[i]) == 0 : \n",
    "            found = i\n",
    "            break\n",
    "    \n",
    "    return found\n",
    "\n",
    "print('Find Minimised Objective value - defined')"
   ]
  },
  {
   "cell_type": "markdown",
   "metadata": {},
   "source": [
    "<b> MAIN </b>"
   ]
  },
  {
   "cell_type": "code",
   "execution_count": null,
   "metadata": {},
   "outputs": [],
   "source": [
    "if __name__ == '__main__' : \n",
    "    chromosomes = 6\n",
    "    gene = 4\n",
    "    chromosomeMatrix = initialize(chromosomes,gene)\n",
    "    \n",
    "    count = 0\n",
    "    while not findMin(chromosomeMatrix) : \n",
    "        count = count+1\n",
    "        print('Generation : ',count)\n",
    "        chromosomeMatrix = selection(chromosomeMatrix)\n",
    "        print('\\nGeneration ',count,' ends.')\n",
    "        print('\\n\\n\\n\\n\\n')\n",
    "        system('cls')\n",
    "    "
   ]
  },
  {
   "cell_type": "markdown",
   "metadata": {},
   "source": [
    "<b>RESULTS</b>"
   ]
  },
  {
   "cell_type": "code",
   "execution_count": 34,
   "metadata": {},
   "outputs": [
    {
     "name": "stdout",
     "output_type": "stream",
     "text": [
      "Number of Generations -> 771\n",
      "Best Chromosome obtained -> [20, 0, 2, 1]\n",
      "Minimised Objective function for best Chromosome -> 0\n",
      "Final Chromosome Population\n",
      "Chromosome[ 0 ] = 21 04 11 04 \n",
      "Chromosome[ 1 ] = 06 23 26 10 \n",
      "Chromosome[ 2 ] = 20 00 02 01 \n",
      "Chromosome[ 3 ] = 18 12 08 10 \n",
      "Chromosome[ 4 ] = 28 15 00 11 \n",
      "Chromosome[ 5 ] = 01 24 15 25 \n"
     ]
    }
   ],
   "source": [
    "print('Number of Generations ->',count)\n",
    "print('Best Chromosome obtained ->',chromosomeMatrix[findMin(chromosomeMatrix)])\n",
    "# best chromosome is obtained when objective function becomes 0\n",
    "print('Minimised Objective function for best Chromosome ->',0)\n",
    "print('Final Chromosome Population')\n",
    "printMatrix(chromosomeMatrix)"
   ]
  },
  {
   "cell_type": "markdown",
   "metadata": {},
   "source": [
    "<b>Few Points</b> :\n",
    "<ul>\n",
    "    <li>\n",
    "Above Chromosomes seem to be quiet uniform(similar gene values),this is due to low mutation rate, low mutation rate leads to fast convergence (less time to reach minimum objective function value).</li>\n",
    "    <li>\n",
    "        If mutation rate is kept high, values are quiet heterogenuous, but convergence might be slow.</li>\n",
    "</ul>"
   ]
  }
 ],
 "metadata": {
  "kernelspec": {
   "display_name": "Python 3",
   "language": "python",
   "name": "python3"
  },
  "language_info": {
   "codemirror_mode": {
    "name": "ipython",
    "version": 3
   },
   "file_extension": ".py",
   "mimetype": "text/x-python",
   "name": "python",
   "nbconvert_exporter": "python",
   "pygments_lexer": "ipython3",
   "version": "3.7.3"
  }
 },
 "nbformat": 4,
 "nbformat_minor": 2
}
